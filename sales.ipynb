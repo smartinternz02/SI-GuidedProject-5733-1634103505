{
 "cells": [
  {
   "cell_type": "code",
   "execution_count": 239,
   "id": "76b42eba",
   "metadata": {},
   "outputs": [],
   "source": [
    "import pandas as pd\n",
    "import numpy as np\n",
    "import matplotlib.pyplot as plt\n",
    "import statsmodels.api as sm"
   ]
  },
  {
   "cell_type": "code",
   "execution_count": 240,
   "id": "e01ce40b",
   "metadata": {},
   "outputs": [
    {
     "data": {
      "text/plain": [
       "'C:\\\\Users\\\\general\\\\Desktop\\\\sales'"
      ]
     },
     "execution_count": 240,
     "metadata": {},
     "output_type": "execute_result"
    }
   ],
   "source": [
    "pwd"
   ]
  },
  {
   "cell_type": "code",
   "execution_count": 241,
   "id": "310b0069",
   "metadata": {},
   "outputs": [],
   "source": [
    "df=pd.read_excel(r\"C:\\Users\\general\\Desktop\\sales\\forecasting Sales of Store using IBM Watson Studio.xlsx\")"
   ]
  },
  {
   "cell_type": "code",
   "execution_count": 242,
   "id": "bb952e41",
   "metadata": {},
   "outputs": [
    {
     "data": {
      "text/html": [
       "<div>\n",
       "<style scoped>\n",
       "    .dataframe tbody tr th:only-of-type {\n",
       "        vertical-align: middle;\n",
       "    }\n",
       "\n",
       "    .dataframe tbody tr th {\n",
       "        vertical-align: top;\n",
       "    }\n",
       "\n",
       "    .dataframe thead th {\n",
       "        text-align: right;\n",
       "    }\n",
       "</style>\n",
       "<table border=\"1\" class=\"dataframe\">\n",
       "  <thead>\n",
       "    <tr style=\"text-align: right;\">\n",
       "      <th></th>\n",
       "      <th>HQ</th>\n",
       "      <th>Country</th>\n",
       "      <th>State_of_outlet</th>\n",
       "      <th>City_of_outlet</th>\n",
       "      <th>Month</th>\n",
       "      <th>Day</th>\n",
       "      <th>Year</th>\n",
       "      <th>Total_Sales</th>\n",
       "    </tr>\n",
       "  </thead>\n",
       "  <tbody>\n",
       "    <tr>\n",
       "      <th>0</th>\n",
       "      <td>Asia</td>\n",
       "      <td>India</td>\n",
       "      <td>NaN</td>\n",
       "      <td>Bombay (Mumbai)</td>\n",
       "      <td>1</td>\n",
       "      <td>1</td>\n",
       "      <td>2005</td>\n",
       "      <td>72.2</td>\n",
       "    </tr>\n",
       "    <tr>\n",
       "      <th>1</th>\n",
       "      <td>Asia</td>\n",
       "      <td>India</td>\n",
       "      <td>NaN</td>\n",
       "      <td>Bombay (Mumbai)</td>\n",
       "      <td>1</td>\n",
       "      <td>2</td>\n",
       "      <td>2005</td>\n",
       "      <td>72.7</td>\n",
       "    </tr>\n",
       "    <tr>\n",
       "      <th>2</th>\n",
       "      <td>Asia</td>\n",
       "      <td>India</td>\n",
       "      <td>NaN</td>\n",
       "      <td>Bombay (Mumbai)</td>\n",
       "      <td>1</td>\n",
       "      <td>3</td>\n",
       "      <td>2005</td>\n",
       "      <td>74.3</td>\n",
       "    </tr>\n",
       "    <tr>\n",
       "      <th>3</th>\n",
       "      <td>Asia</td>\n",
       "      <td>India</td>\n",
       "      <td>NaN</td>\n",
       "      <td>Bombay (Mumbai)</td>\n",
       "      <td>1</td>\n",
       "      <td>4</td>\n",
       "      <td>2005</td>\n",
       "      <td>78.9</td>\n",
       "    </tr>\n",
       "    <tr>\n",
       "      <th>4</th>\n",
       "      <td>Asia</td>\n",
       "      <td>India</td>\n",
       "      <td>NaN</td>\n",
       "      <td>Bombay (Mumbai)</td>\n",
       "      <td>1</td>\n",
       "      <td>5</td>\n",
       "      <td>2005</td>\n",
       "      <td>81.5</td>\n",
       "    </tr>\n",
       "    <tr>\n",
       "      <th>...</th>\n",
       "      <td>...</td>\n",
       "      <td>...</td>\n",
       "      <td>...</td>\n",
       "      <td>...</td>\n",
       "      <td>...</td>\n",
       "      <td>...</td>\n",
       "      <td>...</td>\n",
       "      <td>...</td>\n",
       "    </tr>\n",
       "    <tr>\n",
       "      <th>17531</th>\n",
       "      <td>Asia</td>\n",
       "      <td>India</td>\n",
       "      <td>NaN</td>\n",
       "      <td>Delhi</td>\n",
       "      <td>12</td>\n",
       "      <td>27</td>\n",
       "      <td>2016</td>\n",
       "      <td>61.3</td>\n",
       "    </tr>\n",
       "    <tr>\n",
       "      <th>17532</th>\n",
       "      <td>Asia</td>\n",
       "      <td>India</td>\n",
       "      <td>NaN</td>\n",
       "      <td>Delhi</td>\n",
       "      <td>12</td>\n",
       "      <td>28</td>\n",
       "      <td>2016</td>\n",
       "      <td>61.7</td>\n",
       "    </tr>\n",
       "    <tr>\n",
       "      <th>17533</th>\n",
       "      <td>Asia</td>\n",
       "      <td>India</td>\n",
       "      <td>NaN</td>\n",
       "      <td>Delhi</td>\n",
       "      <td>12</td>\n",
       "      <td>29</td>\n",
       "      <td>2016</td>\n",
       "      <td>59.3</td>\n",
       "    </tr>\n",
       "    <tr>\n",
       "      <th>17534</th>\n",
       "      <td>Asia</td>\n",
       "      <td>India</td>\n",
       "      <td>NaN</td>\n",
       "      <td>Delhi</td>\n",
       "      <td>12</td>\n",
       "      <td>30</td>\n",
       "      <td>2016</td>\n",
       "      <td>57.1</td>\n",
       "    </tr>\n",
       "    <tr>\n",
       "      <th>17535</th>\n",
       "      <td>Asia</td>\n",
       "      <td>India</td>\n",
       "      <td>NaN</td>\n",
       "      <td>Delhi</td>\n",
       "      <td>12</td>\n",
       "      <td>31</td>\n",
       "      <td>2016</td>\n",
       "      <td>58.3</td>\n",
       "    </tr>\n",
       "  </tbody>\n",
       "</table>\n",
       "<p>17536 rows × 8 columns</p>\n",
       "</div>"
      ],
      "text/plain": [
       "         HQ Country  State_of_outlet   City_of_outlet  Month  Day  Year  \\\n",
       "0      Asia   India              NaN  Bombay (Mumbai)      1    1  2005   \n",
       "1      Asia   India              NaN  Bombay (Mumbai)      1    2  2005   \n",
       "2      Asia   India              NaN  Bombay (Mumbai)      1    3  2005   \n",
       "3      Asia   India              NaN  Bombay (Mumbai)      1    4  2005   \n",
       "4      Asia   India              NaN  Bombay (Mumbai)      1    5  2005   \n",
       "...     ...     ...              ...              ...    ...  ...   ...   \n",
       "17531  Asia   India              NaN            Delhi     12   27  2016   \n",
       "17532  Asia   India              NaN            Delhi     12   28  2016   \n",
       "17533  Asia   India              NaN            Delhi     12   29  2016   \n",
       "17534  Asia   India              NaN            Delhi     12   30  2016   \n",
       "17535  Asia   India              NaN            Delhi     12   31  2016   \n",
       "\n",
       "       Total_Sales  \n",
       "0             72.2  \n",
       "1             72.7  \n",
       "2             74.3  \n",
       "3             78.9  \n",
       "4             81.5  \n",
       "...            ...  \n",
       "17531         61.3  \n",
       "17532         61.7  \n",
       "17533         59.3  \n",
       "17534         57.1  \n",
       "17535         58.3  \n",
       "\n",
       "[17536 rows x 8 columns]"
      ]
     },
     "execution_count": 242,
     "metadata": {},
     "output_type": "execute_result"
    }
   ],
   "source": [
    "df"
   ]
  },
  {
   "cell_type": "code",
   "execution_count": 243,
   "id": "d2f8c8d6",
   "metadata": {},
   "outputs": [
    {
     "data": {
      "text/html": [
       "<div>\n",
       "<style scoped>\n",
       "    .dataframe tbody tr th:only-of-type {\n",
       "        vertical-align: middle;\n",
       "    }\n",
       "\n",
       "    .dataframe tbody tr th {\n",
       "        vertical-align: top;\n",
       "    }\n",
       "\n",
       "    .dataframe thead th {\n",
       "        text-align: right;\n",
       "    }\n",
       "</style>\n",
       "<table border=\"1\" class=\"dataframe\">\n",
       "  <thead>\n",
       "    <tr style=\"text-align: right;\">\n",
       "      <th></th>\n",
       "      <th>HQ</th>\n",
       "      <th>Country</th>\n",
       "      <th>State_of_outlet</th>\n",
       "      <th>City_of_outlet</th>\n",
       "      <th>Month</th>\n",
       "      <th>Day</th>\n",
       "      <th>Year</th>\n",
       "      <th>Total_Sales</th>\n",
       "    </tr>\n",
       "  </thead>\n",
       "  <tbody>\n",
       "    <tr>\n",
       "      <th>0</th>\n",
       "      <td>Asia</td>\n",
       "      <td>India</td>\n",
       "      <td>NaN</td>\n",
       "      <td>Bombay (Mumbai)</td>\n",
       "      <td>1</td>\n",
       "      <td>1</td>\n",
       "      <td>2005</td>\n",
       "      <td>72.2</td>\n",
       "    </tr>\n",
       "    <tr>\n",
       "      <th>1</th>\n",
       "      <td>Asia</td>\n",
       "      <td>India</td>\n",
       "      <td>NaN</td>\n",
       "      <td>Bombay (Mumbai)</td>\n",
       "      <td>1</td>\n",
       "      <td>2</td>\n",
       "      <td>2005</td>\n",
       "      <td>72.7</td>\n",
       "    </tr>\n",
       "    <tr>\n",
       "      <th>2</th>\n",
       "      <td>Asia</td>\n",
       "      <td>India</td>\n",
       "      <td>NaN</td>\n",
       "      <td>Bombay (Mumbai)</td>\n",
       "      <td>1</td>\n",
       "      <td>3</td>\n",
       "      <td>2005</td>\n",
       "      <td>74.3</td>\n",
       "    </tr>\n",
       "    <tr>\n",
       "      <th>3</th>\n",
       "      <td>Asia</td>\n",
       "      <td>India</td>\n",
       "      <td>NaN</td>\n",
       "      <td>Bombay (Mumbai)</td>\n",
       "      <td>1</td>\n",
       "      <td>4</td>\n",
       "      <td>2005</td>\n",
       "      <td>78.9</td>\n",
       "    </tr>\n",
       "    <tr>\n",
       "      <th>4</th>\n",
       "      <td>Asia</td>\n",
       "      <td>India</td>\n",
       "      <td>NaN</td>\n",
       "      <td>Bombay (Mumbai)</td>\n",
       "      <td>1</td>\n",
       "      <td>5</td>\n",
       "      <td>2005</td>\n",
       "      <td>81.5</td>\n",
       "    </tr>\n",
       "  </tbody>\n",
       "</table>\n",
       "</div>"
      ],
      "text/plain": [
       "     HQ Country  State_of_outlet   City_of_outlet  Month  Day  Year  \\\n",
       "0  Asia   India              NaN  Bombay (Mumbai)      1    1  2005   \n",
       "1  Asia   India              NaN  Bombay (Mumbai)      1    2  2005   \n",
       "2  Asia   India              NaN  Bombay (Mumbai)      1    3  2005   \n",
       "3  Asia   India              NaN  Bombay (Mumbai)      1    4  2005   \n",
       "4  Asia   India              NaN  Bombay (Mumbai)      1    5  2005   \n",
       "\n",
       "   Total_Sales  \n",
       "0         72.2  \n",
       "1         72.7  \n",
       "2         74.3  \n",
       "3         78.9  \n",
       "4         81.5  "
      ]
     },
     "execution_count": 243,
     "metadata": {},
     "output_type": "execute_result"
    }
   ],
   "source": [
    "df.head()"
   ]
  },
  {
   "cell_type": "code",
   "execution_count": 244,
   "id": "19c12744",
   "metadata": {},
   "outputs": [
    {
     "data": {
      "text/html": [
       "<div>\n",
       "<style scoped>\n",
       "    .dataframe tbody tr th:only-of-type {\n",
       "        vertical-align: middle;\n",
       "    }\n",
       "\n",
       "    .dataframe tbody tr th {\n",
       "        vertical-align: top;\n",
       "    }\n",
       "\n",
       "    .dataframe thead th {\n",
       "        text-align: right;\n",
       "    }\n",
       "</style>\n",
       "<table border=\"1\" class=\"dataframe\">\n",
       "  <thead>\n",
       "    <tr style=\"text-align: right;\">\n",
       "      <th></th>\n",
       "      <th>HQ</th>\n",
       "      <th>Country</th>\n",
       "      <th>State_of_outlet</th>\n",
       "      <th>City_of_outlet</th>\n",
       "      <th>Month</th>\n",
       "      <th>Day</th>\n",
       "      <th>Year</th>\n",
       "      <th>Total_Sales</th>\n",
       "    </tr>\n",
       "  </thead>\n",
       "  <tbody>\n",
       "    <tr>\n",
       "      <th>17531</th>\n",
       "      <td>Asia</td>\n",
       "      <td>India</td>\n",
       "      <td>NaN</td>\n",
       "      <td>Delhi</td>\n",
       "      <td>12</td>\n",
       "      <td>27</td>\n",
       "      <td>2016</td>\n",
       "      <td>61.3</td>\n",
       "    </tr>\n",
       "    <tr>\n",
       "      <th>17532</th>\n",
       "      <td>Asia</td>\n",
       "      <td>India</td>\n",
       "      <td>NaN</td>\n",
       "      <td>Delhi</td>\n",
       "      <td>12</td>\n",
       "      <td>28</td>\n",
       "      <td>2016</td>\n",
       "      <td>61.7</td>\n",
       "    </tr>\n",
       "    <tr>\n",
       "      <th>17533</th>\n",
       "      <td>Asia</td>\n",
       "      <td>India</td>\n",
       "      <td>NaN</td>\n",
       "      <td>Delhi</td>\n",
       "      <td>12</td>\n",
       "      <td>29</td>\n",
       "      <td>2016</td>\n",
       "      <td>59.3</td>\n",
       "    </tr>\n",
       "    <tr>\n",
       "      <th>17534</th>\n",
       "      <td>Asia</td>\n",
       "      <td>India</td>\n",
       "      <td>NaN</td>\n",
       "      <td>Delhi</td>\n",
       "      <td>12</td>\n",
       "      <td>30</td>\n",
       "      <td>2016</td>\n",
       "      <td>57.1</td>\n",
       "    </tr>\n",
       "    <tr>\n",
       "      <th>17535</th>\n",
       "      <td>Asia</td>\n",
       "      <td>India</td>\n",
       "      <td>NaN</td>\n",
       "      <td>Delhi</td>\n",
       "      <td>12</td>\n",
       "      <td>31</td>\n",
       "      <td>2016</td>\n",
       "      <td>58.3</td>\n",
       "    </tr>\n",
       "  </tbody>\n",
       "</table>\n",
       "</div>"
      ],
      "text/plain": [
       "         HQ Country  State_of_outlet City_of_outlet  Month  Day  Year  \\\n",
       "17531  Asia   India              NaN          Delhi     12   27  2016   \n",
       "17532  Asia   India              NaN          Delhi     12   28  2016   \n",
       "17533  Asia   India              NaN          Delhi     12   29  2016   \n",
       "17534  Asia   India              NaN          Delhi     12   30  2016   \n",
       "17535  Asia   India              NaN          Delhi     12   31  2016   \n",
       "\n",
       "       Total_Sales  \n",
       "17531         61.3  \n",
       "17532         61.7  \n",
       "17533         59.3  \n",
       "17534         57.1  \n",
       "17535         58.3  "
      ]
     },
     "execution_count": 244,
     "metadata": {},
     "output_type": "execute_result"
    }
   ],
   "source": [
    "df.tail()"
   ]
  },
  {
   "cell_type": "code",
   "execution_count": 245,
   "id": "fe4fa0fe",
   "metadata": {},
   "outputs": [
    {
     "data": {
      "text/html": [
       "<div>\n",
       "<style scoped>\n",
       "    .dataframe tbody tr th:only-of-type {\n",
       "        vertical-align: middle;\n",
       "    }\n",
       "\n",
       "    .dataframe tbody tr th {\n",
       "        vertical-align: top;\n",
       "    }\n",
       "\n",
       "    .dataframe thead th {\n",
       "        text-align: right;\n",
       "    }\n",
       "</style>\n",
       "<table border=\"1\" class=\"dataframe\">\n",
       "  <thead>\n",
       "    <tr style=\"text-align: right;\">\n",
       "      <th></th>\n",
       "      <th>State_of_outlet</th>\n",
       "      <th>Month</th>\n",
       "      <th>Day</th>\n",
       "      <th>Year</th>\n",
       "      <th>Total_Sales</th>\n",
       "    </tr>\n",
       "  </thead>\n",
       "  <tbody>\n",
       "    <tr>\n",
       "      <th>count</th>\n",
       "      <td>0.0</td>\n",
       "      <td>17536.000000</td>\n",
       "      <td>17536.000000</td>\n",
       "      <td>17536.000000</td>\n",
       "      <td>17536.000000</td>\n",
       "    </tr>\n",
       "    <tr>\n",
       "      <th>mean</th>\n",
       "      <td>NaN</td>\n",
       "      <td>6.524179</td>\n",
       "      <td>15.732892</td>\n",
       "      <td>2010.502053</td>\n",
       "      <td>80.117963</td>\n",
       "    </tr>\n",
       "    <tr>\n",
       "      <th>std</th>\n",
       "      <td>NaN</td>\n",
       "      <td>3.449400</td>\n",
       "      <td>8.801978</td>\n",
       "      <td>3.452525</td>\n",
       "      <td>13.315486</td>\n",
       "    </tr>\n",
       "    <tr>\n",
       "      <th>min</th>\n",
       "      <td>NaN</td>\n",
       "      <td>1.000000</td>\n",
       "      <td>1.000000</td>\n",
       "      <td>2005.000000</td>\n",
       "      <td>-99.000000</td>\n",
       "    </tr>\n",
       "    <tr>\n",
       "      <th>25%</th>\n",
       "      <td>NaN</td>\n",
       "      <td>4.000000</td>\n",
       "      <td>8.000000</td>\n",
       "      <td>2008.000000</td>\n",
       "      <td>77.500000</td>\n",
       "    </tr>\n",
       "    <tr>\n",
       "      <th>50%</th>\n",
       "      <td>NaN</td>\n",
       "      <td>7.000000</td>\n",
       "      <td>16.000000</td>\n",
       "      <td>2011.000000</td>\n",
       "      <td>82.600000</td>\n",
       "    </tr>\n",
       "    <tr>\n",
       "      <th>75%</th>\n",
       "      <td>NaN</td>\n",
       "      <td>10.000000</td>\n",
       "      <td>23.000000</td>\n",
       "      <td>2014.000000</td>\n",
       "      <td>86.100000</td>\n",
       "    </tr>\n",
       "    <tr>\n",
       "      <th>max</th>\n",
       "      <td>NaN</td>\n",
       "      <td>12.000000</td>\n",
       "      <td>31.000000</td>\n",
       "      <td>2016.000000</td>\n",
       "      <td>102.500000</td>\n",
       "    </tr>\n",
       "  </tbody>\n",
       "</table>\n",
       "</div>"
      ],
      "text/plain": [
       "       State_of_outlet         Month           Day          Year   Total_Sales\n",
       "count              0.0  17536.000000  17536.000000  17536.000000  17536.000000\n",
       "mean               NaN      6.524179     15.732892   2010.502053     80.117963\n",
       "std                NaN      3.449400      8.801978      3.452525     13.315486\n",
       "min                NaN      1.000000      1.000000   2005.000000    -99.000000\n",
       "25%                NaN      4.000000      8.000000   2008.000000     77.500000\n",
       "50%                NaN      7.000000     16.000000   2011.000000     82.600000\n",
       "75%                NaN     10.000000     23.000000   2014.000000     86.100000\n",
       "max                NaN     12.000000     31.000000   2016.000000    102.500000"
      ]
     },
     "execution_count": 245,
     "metadata": {},
     "output_type": "execute_result"
    }
   ],
   "source": [
    "df.describe()"
   ]
  },
  {
   "cell_type": "code",
   "execution_count": 246,
   "id": "1761e6a3",
   "metadata": {
    "scrolled": true
   },
   "outputs": [
    {
     "name": "stdout",
     "output_type": "stream",
     "text": [
      "<class 'pandas.core.frame.DataFrame'>\n",
      "RangeIndex: 17536 entries, 0 to 17535\n",
      "Data columns (total 8 columns):\n",
      " #   Column           Non-Null Count  Dtype  \n",
      "---  ------           --------------  -----  \n",
      " 0   HQ               17536 non-null  object \n",
      " 1   Country          17536 non-null  object \n",
      " 2   State_of_outlet  0 non-null      float64\n",
      " 3   City_of_outlet   17536 non-null  object \n",
      " 4   Month            17536 non-null  int64  \n",
      " 5   Day              17536 non-null  int64  \n",
      " 6   Year             17536 non-null  int64  \n",
      " 7   Total_Sales      17536 non-null  float64\n",
      "dtypes: float64(2), int64(3), object(3)\n",
      "memory usage: 1.1+ MB\n"
     ]
    }
   ],
   "source": [
    "df.info()"
   ]
  },
  {
   "cell_type": "code",
   "execution_count": 247,
   "id": "b667f09c",
   "metadata": {},
   "outputs": [],
   "source": [
    "from datetime import datetime\n",
    "df['Date'] = df.apply(lambda row: datetime.strptime(f\"{int(row.Year)}-{int(row.Month)}-{int(row.Day)}\", '%Y-%m-%d'), axis=1)"
   ]
  },
  {
   "cell_type": "code",
   "execution_count": 248,
   "id": "4fc2169b",
   "metadata": {},
   "outputs": [
    {
     "data": {
      "text/plain": [
       "(Timestamp('2005-01-01 00:00:00'), Timestamp('2016-12-31 00:00:00'))"
      ]
     },
     "execution_count": 248,
     "metadata": {},
     "output_type": "execute_result"
    }
   ],
   "source": [
    "df['Date'].min(),df['Date'].max()"
   ]
  },
  {
   "cell_type": "code",
   "execution_count": 249,
   "id": "eba09e56",
   "metadata": {},
   "outputs": [],
   "source": [
    "cols=['Month','Day','Year','City_of_outlet','State_of_outlet','Country','HQ']\n",
    "df.drop(cols,axis=1,inplace=True)\n",
    "df=df.sort_values('Date')"
   ]
  },
  {
   "cell_type": "code",
   "execution_count": 250,
   "id": "8f42293d",
   "metadata": {},
   "outputs": [
    {
     "data": {
      "text/plain": [
       "Total_Sales     539\n",
       "Date           4383\n",
       "dtype: int64"
      ]
     },
     "execution_count": 250,
     "metadata": {},
     "output_type": "execute_result"
    }
   ],
   "source": [
    "df.nunique()"
   ]
  },
  {
   "cell_type": "code",
   "execution_count": 251,
   "id": "ec4d799f",
   "metadata": {
    "scrolled": true
   },
   "outputs": [
    {
     "data": {
      "text/html": [
       "<div>\n",
       "<style scoped>\n",
       "    .dataframe tbody tr th:only-of-type {\n",
       "        vertical-align: middle;\n",
       "    }\n",
       "\n",
       "    .dataframe tbody tr th {\n",
       "        vertical-align: top;\n",
       "    }\n",
       "\n",
       "    .dataframe thead th {\n",
       "        text-align: right;\n",
       "    }\n",
       "</style>\n",
       "<table border=\"1\" class=\"dataframe\">\n",
       "  <thead>\n",
       "    <tr style=\"text-align: right;\">\n",
       "      <th></th>\n",
       "      <th>Total_Sales</th>\n",
       "      <th>Date</th>\n",
       "    </tr>\n",
       "  </thead>\n",
       "  <tbody>\n",
       "    <tr>\n",
       "      <th>0</th>\n",
       "      <td>72.2</td>\n",
       "      <td>2005-01-01</td>\n",
       "    </tr>\n",
       "    <tr>\n",
       "      <th>730</th>\n",
       "      <td>75.8</td>\n",
       "      <td>2005-01-01</td>\n",
       "    </tr>\n",
       "    <tr>\n",
       "      <th>1095</th>\n",
       "      <td>61.0</td>\n",
       "      <td>2005-01-01</td>\n",
       "    </tr>\n",
       "    <tr>\n",
       "      <th>365</th>\n",
       "      <td>66.5</td>\n",
       "      <td>2005-01-01</td>\n",
       "    </tr>\n",
       "    <tr>\n",
       "      <th>1</th>\n",
       "      <td>72.7</td>\n",
       "      <td>2005-01-02</td>\n",
       "    </tr>\n",
       "    <tr>\n",
       "      <th>...</th>\n",
       "      <td>...</td>\n",
       "      <td>...</td>\n",
       "    </tr>\n",
       "    <tr>\n",
       "      <th>16802</th>\n",
       "      <td>67.4</td>\n",
       "      <td>2016-12-30</td>\n",
       "    </tr>\n",
       "    <tr>\n",
       "      <th>17169</th>\n",
       "      <td>76.8</td>\n",
       "      <td>2016-12-31</td>\n",
       "    </tr>\n",
       "    <tr>\n",
       "      <th>16437</th>\n",
       "      <td>79.7</td>\n",
       "      <td>2016-12-31</td>\n",
       "    </tr>\n",
       "    <tr>\n",
       "      <th>16803</th>\n",
       "      <td>67.1</td>\n",
       "      <td>2016-12-31</td>\n",
       "    </tr>\n",
       "    <tr>\n",
       "      <th>17535</th>\n",
       "      <td>58.3</td>\n",
       "      <td>2016-12-31</td>\n",
       "    </tr>\n",
       "  </tbody>\n",
       "</table>\n",
       "<p>17536 rows × 2 columns</p>\n",
       "</div>"
      ],
      "text/plain": [
       "       Total_Sales       Date\n",
       "0             72.2 2005-01-01\n",
       "730           75.8 2005-01-01\n",
       "1095          61.0 2005-01-01\n",
       "365           66.5 2005-01-01\n",
       "1             72.7 2005-01-02\n",
       "...            ...        ...\n",
       "16802         67.4 2016-12-30\n",
       "17169         76.8 2016-12-31\n",
       "16437         79.7 2016-12-31\n",
       "16803         67.1 2016-12-31\n",
       "17535         58.3 2016-12-31\n",
       "\n",
       "[17536 rows x 2 columns]"
      ]
     },
     "execution_count": 251,
     "metadata": {},
     "output_type": "execute_result"
    }
   ],
   "source": [
    "df"
   ]
  },
  {
   "cell_type": "code",
   "execution_count": 252,
   "id": "a8b5a2fc",
   "metadata": {},
   "outputs": [
    {
     "data": {
      "text/plain": [
       "Total_Sales    False\n",
       "Date           False\n",
       "dtype: bool"
      ]
     },
     "execution_count": 252,
     "metadata": {},
     "output_type": "execute_result"
    }
   ],
   "source": [
    "df.isnull().any()"
   ]
  },
  {
   "cell_type": "code",
   "execution_count": 253,
   "id": "8faaf2ae",
   "metadata": {},
   "outputs": [
    {
     "data": {
      "text/plain": [
       "(17536, 2)"
      ]
     },
     "execution_count": 253,
     "metadata": {},
     "output_type": "execute_result"
    }
   ],
   "source": [
    "df.shape"
   ]
  },
  {
   "cell_type": "code",
   "execution_count": 254,
   "id": "af9a411e",
   "metadata": {},
   "outputs": [],
   "source": [
    "df=df.groupby('Date')['Total_Sales'].sum().reset_index()"
   ]
  },
  {
   "cell_type": "code",
   "execution_count": 255,
   "id": "298b8cfe",
   "metadata": {
    "scrolled": true
   },
   "outputs": [
    {
     "data": {
      "text/html": [
       "<div>\n",
       "<style scoped>\n",
       "    .dataframe tbody tr th:only-of-type {\n",
       "        vertical-align: middle;\n",
       "    }\n",
       "\n",
       "    .dataframe tbody tr th {\n",
       "        vertical-align: top;\n",
       "    }\n",
       "\n",
       "    .dataframe thead th {\n",
       "        text-align: right;\n",
       "    }\n",
       "</style>\n",
       "<table border=\"1\" class=\"dataframe\">\n",
       "  <thead>\n",
       "    <tr style=\"text-align: right;\">\n",
       "      <th></th>\n",
       "      <th>Date</th>\n",
       "      <th>Total_Sales</th>\n",
       "    </tr>\n",
       "  </thead>\n",
       "  <tbody>\n",
       "    <tr>\n",
       "      <th>0</th>\n",
       "      <td>2005-01-01</td>\n",
       "      <td>275.5</td>\n",
       "    </tr>\n",
       "    <tr>\n",
       "      <th>1</th>\n",
       "      <td>2005-01-02</td>\n",
       "      <td>275.5</td>\n",
       "    </tr>\n",
       "    <tr>\n",
       "      <th>2</th>\n",
       "      <td>2005-01-03</td>\n",
       "      <td>278.6</td>\n",
       "    </tr>\n",
       "    <tr>\n",
       "      <th>3</th>\n",
       "      <td>2005-01-04</td>\n",
       "      <td>279.3</td>\n",
       "    </tr>\n",
       "    <tr>\n",
       "      <th>4</th>\n",
       "      <td>2005-01-05</td>\n",
       "      <td>281.4</td>\n",
       "    </tr>\n",
       "    <tr>\n",
       "      <th>...</th>\n",
       "      <td>...</td>\n",
       "      <td>...</td>\n",
       "    </tr>\n",
       "    <tr>\n",
       "      <th>4378</th>\n",
       "      <td>2016-12-27</td>\n",
       "      <td>288.4</td>\n",
       "    </tr>\n",
       "    <tr>\n",
       "      <th>4379</th>\n",
       "      <td>2016-12-28</td>\n",
       "      <td>283.3</td>\n",
       "    </tr>\n",
       "    <tr>\n",
       "      <th>4380</th>\n",
       "      <td>2016-12-29</td>\n",
       "      <td>281.7</td>\n",
       "    </tr>\n",
       "    <tr>\n",
       "      <th>4381</th>\n",
       "      <td>2016-12-30</td>\n",
       "      <td>282.0</td>\n",
       "    </tr>\n",
       "    <tr>\n",
       "      <th>4382</th>\n",
       "      <td>2016-12-31</td>\n",
       "      <td>281.9</td>\n",
       "    </tr>\n",
       "  </tbody>\n",
       "</table>\n",
       "<p>4383 rows × 2 columns</p>\n",
       "</div>"
      ],
      "text/plain": [
       "           Date  Total_Sales\n",
       "0    2005-01-01        275.5\n",
       "1    2005-01-02        275.5\n",
       "2    2005-01-03        278.6\n",
       "3    2005-01-04        279.3\n",
       "4    2005-01-05        281.4\n",
       "...         ...          ...\n",
       "4378 2016-12-27        288.4\n",
       "4379 2016-12-28        283.3\n",
       "4380 2016-12-29        281.7\n",
       "4381 2016-12-30        282.0\n",
       "4382 2016-12-31        281.9\n",
       "\n",
       "[4383 rows x 2 columns]"
      ]
     },
     "execution_count": 255,
     "metadata": {},
     "output_type": "execute_result"
    }
   ],
   "source": [
    "df"
   ]
  },
  {
   "cell_type": "code",
   "execution_count": 256,
   "id": "bf073bbf",
   "metadata": {},
   "outputs": [],
   "source": [
    "Sales_y=df.set_index('Date')"
   ]
  },
  {
   "cell_type": "code",
   "execution_count": 257,
   "id": "282c557d",
   "metadata": {},
   "outputs": [
    {
     "data": {
      "text/plain": [
       "DatetimeIndex(['2005-01-01', '2005-01-02', '2005-01-03', '2005-01-04',\n",
       "               '2005-01-05', '2005-01-06', '2005-01-07', '2005-01-08',\n",
       "               '2005-01-09', '2005-01-10',\n",
       "               ...\n",
       "               '2016-12-22', '2016-12-23', '2016-12-24', '2016-12-25',\n",
       "               '2016-12-26', '2016-12-27', '2016-12-28', '2016-12-29',\n",
       "               '2016-12-30', '2016-12-31'],\n",
       "              dtype='datetime64[ns]', name='Date', length=4383, freq=None)"
      ]
     },
     "execution_count": 257,
     "metadata": {},
     "output_type": "execute_result"
    }
   ],
   "source": [
    "Sales_y.index"
   ]
  },
  {
   "cell_type": "code",
   "execution_count": 258,
   "id": "fbb1be16",
   "metadata": {
    "scrolled": true
   },
   "outputs": [
    {
     "data": {
      "text/html": [
       "<div>\n",
       "<style scoped>\n",
       "    .dataframe tbody tr th:only-of-type {\n",
       "        vertical-align: middle;\n",
       "    }\n",
       "\n",
       "    .dataframe tbody tr th {\n",
       "        vertical-align: top;\n",
       "    }\n",
       "\n",
       "    .dataframe thead th {\n",
       "        text-align: right;\n",
       "    }\n",
       "</style>\n",
       "<table border=\"1\" class=\"dataframe\">\n",
       "  <thead>\n",
       "    <tr style=\"text-align: right;\">\n",
       "      <th></th>\n",
       "      <th>Total_Sales</th>\n",
       "    </tr>\n",
       "    <tr>\n",
       "      <th>Date</th>\n",
       "      <th></th>\n",
       "    </tr>\n",
       "  </thead>\n",
       "  <tbody>\n",
       "    <tr>\n",
       "      <th>2005-01-01</th>\n",
       "      <td>275.5</td>\n",
       "    </tr>\n",
       "    <tr>\n",
       "      <th>2005-01-02</th>\n",
       "      <td>275.5</td>\n",
       "    </tr>\n",
       "    <tr>\n",
       "      <th>2005-01-03</th>\n",
       "      <td>278.6</td>\n",
       "    </tr>\n",
       "    <tr>\n",
       "      <th>2005-01-04</th>\n",
       "      <td>279.3</td>\n",
       "    </tr>\n",
       "    <tr>\n",
       "      <th>2005-01-05</th>\n",
       "      <td>281.4</td>\n",
       "    </tr>\n",
       "    <tr>\n",
       "      <th>...</th>\n",
       "      <td>...</td>\n",
       "    </tr>\n",
       "    <tr>\n",
       "      <th>2016-12-27</th>\n",
       "      <td>288.4</td>\n",
       "    </tr>\n",
       "    <tr>\n",
       "      <th>2016-12-28</th>\n",
       "      <td>283.3</td>\n",
       "    </tr>\n",
       "    <tr>\n",
       "      <th>2016-12-29</th>\n",
       "      <td>281.7</td>\n",
       "    </tr>\n",
       "    <tr>\n",
       "      <th>2016-12-30</th>\n",
       "      <td>282.0</td>\n",
       "    </tr>\n",
       "    <tr>\n",
       "      <th>2016-12-31</th>\n",
       "      <td>281.9</td>\n",
       "    </tr>\n",
       "  </tbody>\n",
       "</table>\n",
       "<p>4383 rows × 1 columns</p>\n",
       "</div>"
      ],
      "text/plain": [
       "            Total_Sales\n",
       "Date                   \n",
       "2005-01-01        275.5\n",
       "2005-01-02        275.5\n",
       "2005-01-03        278.6\n",
       "2005-01-04        279.3\n",
       "2005-01-05        281.4\n",
       "...                 ...\n",
       "2016-12-27        288.4\n",
       "2016-12-28        283.3\n",
       "2016-12-29        281.7\n",
       "2016-12-30        282.0\n",
       "2016-12-31        281.9\n",
       "\n",
       "[4383 rows x 1 columns]"
      ]
     },
     "execution_count": 258,
     "metadata": {},
     "output_type": "execute_result"
    }
   ],
   "source": [
    "Sales_y"
   ]
  },
  {
   "cell_type": "code",
   "execution_count": 259,
   "id": "caf5dd03",
   "metadata": {},
   "outputs": [],
   "source": [
    "Sales=Sales_y.copy()"
   ]
  },
  {
   "cell_type": "code",
   "execution_count": 260,
   "id": "7793c1f8",
   "metadata": {},
   "outputs": [
    {
     "data": {
      "text/plain": [
       "(4383, 1)"
      ]
     },
     "execution_count": 260,
     "metadata": {},
     "output_type": "execute_result"
    }
   ],
   "source": [
    "Sales_y.shape"
   ]
  },
  {
   "cell_type": "code",
   "execution_count": 261,
   "id": "15698ebe",
   "metadata": {},
   "outputs": [],
   "source": [
    "import tensorflow as tf"
   ]
  },
  {
   "cell_type": "code",
   "execution_count": 262,
   "id": "f20812a4",
   "metadata": {},
   "outputs": [
    {
     "data": {
      "text/plain": [
       "'2.3.0'"
      ]
     },
     "execution_count": 262,
     "metadata": {},
     "output_type": "execute_result"
    }
   ],
   "source": [
    "tf.__version__"
   ]
  },
  {
   "cell_type": "code",
   "execution_count": 263,
   "id": "b1e49ee7",
   "metadata": {},
   "outputs": [],
   "source": [
    "import keras"
   ]
  },
  {
   "cell_type": "code",
   "execution_count": 264,
   "id": "99795ed3",
   "metadata": {},
   "outputs": [
    {
     "data": {
      "text/plain": [
       "'2.4.3'"
      ]
     },
     "execution_count": 264,
     "metadata": {},
     "output_type": "execute_result"
    }
   ],
   "source": [
    "keras.__version__"
   ]
  },
  {
   "cell_type": "code",
   "execution_count": 265,
   "id": "03098695",
   "metadata": {},
   "outputs": [],
   "source": [
    "y = Sales_y['Total_Sales'].resample('MS').mean()"
   ]
  },
  {
   "cell_type": "code",
   "execution_count": 266,
   "id": "75a6f6a2",
   "metadata": {},
   "outputs": [
    {
     "data": {
      "text/plain": [
       "Date\n",
       "2005-01-01    275.774194\n",
       "2005-02-01    295.957143\n",
       "2005-03-01    318.919355\n",
       "2005-04-01    335.376667\n",
       "2005-05-01    350.000000\n",
       "                 ...    \n",
       "2016-08-01    342.080645\n",
       "2016-09-01    333.050000\n",
       "2016-10-01    333.858065\n",
       "2016-11-01    286.790000\n",
       "2016-12-01    290.380645\n",
       "Freq: MS, Name: Total_Sales, Length: 144, dtype: float64"
      ]
     },
     "execution_count": 266,
     "metadata": {},
     "output_type": "execute_result"
    }
   ],
   "source": [
    "y"
   ]
  },
  {
   "cell_type": "code",
   "execution_count": 267,
   "id": "a36c6445",
   "metadata": {},
   "outputs": [],
   "source": [
    "monthly_sales=Sales_y['Total_Sales'].resample('MS').mean()"
   ]
  },
  {
   "cell_type": "code",
   "execution_count": 268,
   "id": "6a2814b4",
   "metadata": {
    "scrolled": true
   },
   "outputs": [
    {
     "data": {
      "image/png": "[encoded data removed]",
      "text/plain": [
       "<Figure size 1080x432 with 1 Axes>"
      ]
     },
     "metadata": {
      "needs_background": "light"
     },
     "output_type": "display_data"
    }
   ],
   "source": [
    "monthly_sales.plot(figsize=(15,6))\n",
    "plt.show()"
   ]
  },
  {
   "cell_type": "code",
   "execution_count": 269,
   "id": "a9b4480a",
   "metadata": {},
   "outputs": [
    {
     "data": {
      "image/png": "[encoded data removed]",
      "text/plain": [
       "<Figure size 1296x576 with 4 Axes>"
      ]
     },
     "metadata": {
      "needs_background": "light"
     },
     "output_type": "display_data"
    }
   ],
   "source": [
    "from pylab import rcParams\n",
    "rcParams['figure.figsize']=18,8\n",
    "decomposition=sm.tsa.seasonal_decompose(monthly_sales,model='additive')\n",
    "fig=decomposition.plot()\n",
    "plt.show()"
   ]
  },
  {
   "cell_type": "code",
   "execution_count": 270,
   "id": "7c844e4d",
   "metadata": {},
   "outputs": [
    {
     "data": {
      "image/png": "[encoded data removed]",
      "text/plain": [
       "<Figure size 1296x576 with 1 Axes>"
      ]
     },
     "metadata": {
      "needs_background": "light"
     },
     "output_type": "display_data"
    }
   ],
   "source": [
    "plt.plot(Sales_y, color = 'violet')\n",
    "plt.title('SALES FROM 2005 TO 2016')\n",
    "plt.xlabel('Days')\n",
    "plt.ylabel('Sales')\n",
    "plt.show()"
   ]
  },
  {
   "cell_type": "code",
   "execution_count": 271,
   "id": "fea5b4d5",
   "metadata": {},
   "outputs": [],
   "source": [
    "from sklearn.preprocessing import MinMaxScaler\n",
    "scaler=MinMaxScaler(feature_range=(0,1))\n",
    "Sales_y=scaler.fit_transform(np.array(Sales_y).reshape(-1,1))"
   ]
  },
  {
   "cell_type": "code",
   "execution_count": 272,
   "id": "c859c82b",
   "metadata": {},
   "outputs": [],
   "source": [
    "import pickle\n",
    "pickle.dump(scaler,open(\"Scaler_forecast.pkl\",\"wb\"))"
   ]
  },
  {
   "cell_type": "code",
   "execution_count": 273,
   "id": "24ca3b9c",
   "metadata": {},
   "outputs": [
    {
     "data": {
      "text/plain": [
       "(4383, 1)"
      ]
     },
     "execution_count": 273,
     "metadata": {},
     "output_type": "execute_result"
    }
   ],
   "source": [
    "Sales_y.shape"
   ]
  },
  {
   "cell_type": "code",
   "execution_count": 274,
   "id": "be2f515c",
   "metadata": {},
   "outputs": [],
   "source": [
    "training_size=int(len(Sales_y)*0.63)\n",
    "test_size=len(Sales_y)-training_size\n",
    "train_data,test_data=Sales_y[0:training_size,:],Sales_y[training_size:len(Sales_y),:1]"
   ]
  },
  {
   "cell_type": "code",
   "execution_count": 275,
   "id": "78ab008d",
   "metadata": {},
   "outputs": [
    {
     "data": {
      "text/plain": [
       "(2761, 1622)"
      ]
     },
     "execution_count": 275,
     "metadata": {},
     "output_type": "execute_result"
    }
   ],
   "source": [
    "training_size,test_size"
   ]
  },
  {
   "cell_type": "code",
   "execution_count": 276,
   "id": "1b5e6a6f",
   "metadata": {},
   "outputs": [
    {
     "data": {
      "text/plain": [
       "(2761, 1)"
      ]
     },
     "execution_count": 276,
     "metadata": {},
     "output_type": "execute_result"
    }
   ],
   "source": [
    "train_data.shape"
   ]
  },
  {
   "cell_type": "code",
   "execution_count": 277,
   "id": "25ba7879",
   "metadata": {},
   "outputs": [
    {
     "data": {
      "text/plain": [
       "array([[0.87264457],\n",
       "       [0.87264457],\n",
       "       [0.87667316],\n",
       "       ...,\n",
       "       [0.96166342],\n",
       "       [0.96920078],\n",
       "       [0.97076023]])"
      ]
     },
     "execution_count": 277,
     "metadata": {},
     "output_type": "execute_result"
    }
   ],
   "source": [
    "train_data"
   ]
  },
  {
   "cell_type": "code",
   "execution_count": 278,
   "id": "92900320",
   "metadata": {},
   "outputs": [],
   "source": [
    "def create_dataset(dataset, time_step=10):\n",
    "    dataX, dataY = [], []\n",
    "    for i in range(len(dataset)-time_step-1):\n",
    "        a = dataset[i:(i+time_step), 0]   ###i=0, 0,1,2,3-----99   100 \n",
    "        dataX.append(a)\n",
    "        dataY.append(dataset[i + time_step, 0])\n",
    "        return np.array(dataX), np.array(dataY)"
   ]
  },
  {
   "cell_type": "code",
   "execution_count": 279,
   "id": "7172fa62",
   "metadata": {},
   "outputs": [],
   "source": [
    "time_step = 10\n",
    "X_train, y_train = create_dataset(train_data, time_step)\n",
    "X_test, ytest = create_dataset(test_data, time_step)"
   ]
  },
  {
   "cell_type": "code",
   "execution_count": 280,
   "id": "934e95b5",
   "metadata": {},
   "outputs": [
    {
     "data": {
      "text/plain": [
       "array([[0.87264457, 0.87264457, 0.87667316, 0.87758285, 0.88031189,\n",
       "        0.87186485, 0.87238467, 0.87238467, 0.87576348, 0.87407407]])"
      ]
     },
     "execution_count": 280,
     "metadata": {},
     "output_type": "execute_result"
    }
   ],
   "source": [
    "X_train"
   ]
  },
  {
   "cell_type": "code",
   "execution_count": 281,
   "id": "fb92a70b",
   "metadata": {},
   "outputs": [
    {
     "name": "stdout",
     "output_type": "stream",
     "text": [
      "(1, 10)\n",
      "(1,)\n"
     ]
    },
    {
     "data": {
      "text/plain": [
       "(None, None)"
      ]
     },
     "execution_count": 281,
     "metadata": {},
     "output_type": "execute_result"
    }
   ],
   "source": [
    "print(X_train.shape),print(y_train.shape)"
   ]
  },
  {
   "cell_type": "code",
   "execution_count": 282,
   "id": "6f98f580",
   "metadata": {},
   "outputs": [
    {
     "name": "stdout",
     "output_type": "stream",
     "text": [
      "(1, 10)\n",
      "(1,)\n"
     ]
    },
    {
     "data": {
      "text/plain": [
       "(None, None)"
      ]
     },
     "execution_count": 282,
     "metadata": {},
     "output_type": "execute_result"
    }
   ],
   "source": [
    "print(X_test.shape),print(ytest.shape)"
   ]
  },
  {
   "cell_type": "code",
   "execution_count": 283,
   "id": "47f24e3d",
   "metadata": {},
   "outputs": [
    {
     "data": {
      "text/plain": [
       "array([[0.87264457, 0.87264457, 0.87667316, 0.87758285, 0.88031189,\n",
       "        0.87186485, 0.87238467, 0.87238467, 0.87576348, 0.87407407]])"
      ]
     },
     "execution_count": 283,
     "metadata": {},
     "output_type": "execute_result"
    }
   ],
   "source": [
    "X_train"
   ]
  },
  {
   "cell_type": "code",
   "execution_count": 284,
   "id": "f2e086e6",
   "metadata": {},
   "outputs": [
    {
     "data": {
      "text/plain": [
       "array([0.8705653])"
      ]
     },
     "execution_count": 284,
     "metadata": {},
     "output_type": "execute_result"
    }
   ],
   "source": [
    "y_train"
   ]
  },
  {
   "cell_type": "code",
   "execution_count": 285,
   "id": "c99fbc83",
   "metadata": {},
   "outputs": [
    {
     "data": {
      "text/plain": [
       "array([[0.96673164, 0.96166342, 0.96036387, 0.95763483, 0.9568551 ,\n",
       "        0.95620533, 0.95646524, 0.95022742, 0.95659519, 0.96790123]])"
      ]
     },
     "execution_count": 285,
     "metadata": {},
     "output_type": "execute_result"
    }
   ],
   "source": [
    "X_test"
   ]
  },
  {
   "cell_type": "code",
   "execution_count": 286,
   "id": "28705d8b",
   "metadata": {},
   "outputs": [
    {
     "data": {
      "text/plain": [
       "array([0.95815465])"
      ]
     },
     "execution_count": 286,
     "metadata": {},
     "output_type": "execute_result"
    }
   ],
   "source": [
    "ytest"
   ]
  },
  {
   "cell_type": "code",
   "execution_count": 287,
   "id": "917417a6",
   "metadata": {},
   "outputs": [],
   "source": [
    "X_train=X_train.reshape(X_train.shape[0],X_train.shape[1],1)\n",
    "X_test=X_test.reshape(X_test.shape[0],X_test.shape[1],1)"
   ]
  },
  {
   "cell_type": "code",
   "execution_count": 288,
   "id": "b3743e7f",
   "metadata": {},
   "outputs": [
    {
     "data": {
      "text/plain": [
       "(1, 10)"
      ]
     },
     "execution_count": 288,
     "metadata": {},
     "output_type": "execute_result"
    }
   ],
   "source": [
    "X_train.shape[0],X_train.shape[1]"
   ]
  },
  {
   "cell_type": "code",
   "execution_count": 289,
   "id": "c8804456",
   "metadata": {},
   "outputs": [],
   "source": [
    "from tensorflow.keras.models import Sequential\n",
    "from tensorflow.keras.layers import Dense\n",
    "from tensorflow.keras.layers import LSTM"
   ]
  },
  {
   "cell_type": "code",
   "execution_count": 290,
   "id": "02a9fe38",
   "metadata": {},
   "outputs": [],
   "source": [
    "model=Sequential()\n",
    "model.add( LSTM(50,return_sequences=True,input_shape=(10,1)))"
   ]
  },
  {
   "cell_type": "code",
   "execution_count": 291,
   "id": "f93cdefa",
   "metadata": {},
   "outputs": [],
   "source": [
    "model.add(LSTM(50,return_sequences=True))\n",
    "model.add(LSTM(50))\n",
    "model.add(Dense(1))"
   ]
  },
  {
   "cell_type": "code",
   "execution_count": 292,
   "id": "6448fcfb",
   "metadata": {},
   "outputs": [],
   "source": [
    "model.compile(loss='mean_squared_error',optimizer='adam')"
   ]
  },
  {
   "cell_type": "code",
   "execution_count": 293,
   "id": "24d9d474",
   "metadata": {},
   "outputs": [
    {
     "name": "stdout",
     "output_type": "stream",
     "text": [
      "Epoch 1/200\n",
      "1/1 [==============================] - 2s 2s/step - loss: 0.7310 - val_loss: 0.7890\n",
      "Epoch 2/200\n",
      "1/1 [==============================] - 0s 28ms/step - loss: 0.6485 - val_loss: 0.6946\n",
      "Epoch 3/200\n",
      "1/1 [==============================] - 0s 34ms/step - loss: 0.5685 - val_loss: 0.5996\n",
      "Epoch 4/200\n",
      "1/1 [==============================] - 0s 33ms/step - loss: 0.4882 - val_loss: 0.5026\n",
      "Epoch 5/200\n",
      "1/1 [==============================] - 0s 26ms/step - loss: 0.4064 - val_loss: 0.4029\n",
      "Epoch 6/200\n",
      "1/1 [==============================] - 0s 64ms/step - loss: 0.3227 - val_loss: 0.3012\n",
      "Epoch 7/200\n",
      "1/1 [==============================] - 0s 32ms/step - loss: 0.2379 - val_loss: 0.2007\n",
      "Epoch 8/200\n",
      "1/1 [==============================] - 0s 35ms/step - loss: 0.1548 - val_loss: 0.1079\n",
      "Epoch 9/200\n",
      "1/1 [==============================] - 0s 28ms/step - loss: 0.0794 - val_loss: 0.0350\n",
      "Epoch 10/200\n",
      "1/1 [==============================] - 0s 33ms/step - loss: 0.0223 - val_loss: 5.4680e-04\n",
      "Epoch 11/200\n",
      "1/1 [==============================] - 0s 36ms/step - loss: 1.3968e-05 - val_loss: 0.0215\n",
      "Epoch 12/200\n",
      "1/1 [==============================] - 0s 36ms/step - loss: 0.0267 - val_loss: 0.0711\n",
      "Epoch 13/200\n",
      "1/1 [==============================] - 0s 34ms/step - loss: 0.0766 - val_loss: 0.0919\n",
      "Epoch 14/200\n",
      "1/1 [==============================] - 0s 33ms/step - loss: 0.0976 - val_loss: 0.0762\n",
      "Epoch 15/200\n",
      "1/1 [==============================] - 0s 32ms/step - loss: 0.0828 - val_loss: 0.0449\n",
      "Epoch 16/200\n",
      "1/1 [==============================] - 0s 30ms/step - loss: 0.0521 - val_loss: 0.0173\n",
      "Epoch 17/200\n",
      "1/1 [==============================] - 0s 33ms/step - loss: 0.0235 - val_loss: 0.0025\n",
      "Epoch 18/200\n",
      "1/1 [==============================] - 0s 28ms/step - loss: 0.0059 - val_loss: 6.2552e-04\n",
      "Epoch 19/200\n",
      "1/1 [==============================] - 0s 34ms/step - loss: 4.6909e-05 - val_loss: 0.0077\n",
      "Epoch 20/200\n",
      "1/1 [==============================] - 0s 28ms/step - loss: 0.0027 - val_loss: 0.0188\n",
      "Epoch 21/200\n",
      "1/1 [==============================] - 0s 33ms/step - loss: 0.0096 - val_loss: 0.0298\n",
      "Epoch 22/200\n",
      "1/1 [==============================] - 0s 34ms/step - loss: 0.0172 - val_loss: 0.0383\n",
      "Epoch 23/200\n",
      "1/1 [==============================] - 0s 25ms/step - loss: 0.0233 - val_loss: 0.0430\n",
      "Epoch 24/200\n",
      "1/1 [==============================] - 0s 25ms/step - loss: 0.0266 - val_loss: 0.0436\n",
      "Epoch 25/200\n",
      "1/1 [==============================] - 0s 39ms/step - loss: 0.0270 - val_loss: 0.0405\n",
      "Epoch 26/200\n",
      "1/1 [==============================] - ETA: 0s - loss: 0.024 - 0s 34ms/step - loss: 0.0246 - val_loss: 0.0346\n",
      "Epoch 27/200\n",
      "1/1 [==============================] - 0s 34ms/step - loss: 0.0202 - val_loss: 0.0269\n",
      "Epoch 28/200\n",
      "1/1 [==============================] - 0s 29ms/step - loss: 0.0147 - val_loss: 0.0187\n",
      "Epoch 29/200\n",
      "1/1 [==============================] - 0s 28ms/step - loss: 0.0091 - val_loss: 0.0112\n",
      "Epoch 30/200\n",
      "1/1 [==============================] - 0s 25ms/step - loss: 0.0043 - val_loss: 0.0053\n",
      "Epoch 31/200\n",
      "1/1 [==============================] - 0s 30ms/step - loss: 0.0012 - val_loss: 0.0015\n",
      "Epoch 32/200\n",
      "1/1 [==============================] - 0s 41ms/step - loss: 4.3523e-06 - val_loss: 6.2379e-05\n",
      "Epoch 33/200\n",
      "1/1 [==============================] - 0s 37ms/step - loss: 7.7312e-04 - val_loss: 3.5687e-04\n",
      "Epoch 34/200\n",
      "1/1 [==============================] - 0s 39ms/step - loss: 0.0029 - val_loss: 0.0015\n",
      "Epoch 35/200\n",
      "1/1 [==============================] - 0s 29ms/step - loss: 0.0053 - val_loss: 0.0026\n",
      "Epoch 36/200\n",
      "1/1 [==============================] - 0s 28ms/step - loss: 0.0071 - val_loss: 0.0030\n",
      "Epoch 37/200\n",
      "1/1 [==============================] - ETA: 0s - loss: 0.007 - 0s 30ms/step - loss: 0.0077 - val_loss: 0.0025\n",
      "Epoch 38/200\n",
      "1/1 [==============================] - 0s 28ms/step - loss: 0.0070 - val_loss: 0.0015\n",
      "Epoch 39/200\n",
      "1/1 [==============================] - 0s 29ms/step - loss: 0.0053 - val_loss: 4.5822e-04\n",
      "Epoch 40/200\n",
      "1/1 [==============================] - 0s 32ms/step - loss: 0.0032 - val_loss: 2.8259e-06\n",
      "Epoch 41/200\n",
      "1/1 [==============================] - 0s 34ms/step - loss: 0.0015 - val_loss: 3.5991e-04\n",
      "Epoch 42/200\n",
      "1/1 [==============================] - 0s 30ms/step - loss: 3.4424e-04 - val_loss: 0.0015\n",
      "Epoch 43/200\n",
      "1/1 [==============================] - 0s 38ms/step - loss: 4.5279e-08 - val_loss: 0.0032\n",
      "Epoch 44/200\n",
      "1/1 [==============================] - 0s 41ms/step - loss: 2.8536e-04 - val_loss: 0.0050\n",
      "Epoch 45/200\n",
      "1/1 [==============================] - 0s 43ms/step - loss: 9.3413e-04 - val_loss: 0.0067\n",
      "Epoch 46/200\n",
      "1/1 [==============================] - 0s 36ms/step - loss: 0.0017 - val_loss: 0.0078\n",
      "Epoch 47/200\n",
      "1/1 [==============================] - 0s 40ms/step - loss: 0.0022 - val_loss: 0.0082\n",
      "Epoch 48/200\n",
      "1/1 [==============================] - 0s 33ms/step - loss: 0.0024 - val_loss: 0.0080\n",
      "Epoch 49/200\n",
      "1/1 [==============================] - 0s 37ms/step - loss: 0.0023 - val_loss: 0.0072\n",
      "Epoch 50/200\n",
      "1/1 [==============================] - 0s 40ms/step - loss: 0.0019 - val_loss: 0.0060\n",
      "Epoch 51/200\n",
      "1/1 [==============================] - 0s 30ms/step - loss: 0.0013 - val_loss: 0.0046\n",
      "Epoch 52/200\n",
      "1/1 [==============================] - 0s 31ms/step - loss: 7.4764e-04 - val_loss: 0.0032\n",
      "Epoch 53/200\n",
      "1/1 [==============================] - 0s 27ms/step - loss: 2.8489e-04 - val_loss: 0.0021\n",
      "Epoch 54/200\n",
      "1/1 [==============================] - 0s 45ms/step - loss: 3.5815e-05 - val_loss: 0.0012\n",
      "Epoch 55/200\n",
      "1/1 [==============================] - 0s 36ms/step - loss: 2.0063e-05 - val_loss: 6.2335e-04\n",
      "Epoch 56/200\n",
      "1/1 [==============================] - 0s 29ms/step - loss: 1.8768e-04 - val_loss: 3.0112e-04\n",
      "Epoch 57/200\n",
      "1/1 [==============================] - 0s 42ms/step - loss: 4.4038e-04 - val_loss: 1.5106e-04\n",
      "Epoch 58/200\n",
      "1/1 [==============================] - 0s 43ms/step - loss: 6.6762e-04 - val_loss: 1.0081e-04\n",
      "Epoch 59/200\n",
      "1/1 [==============================] - 0s 47ms/step - loss: 7.8459e-04 - val_loss: 1.1188e-04\n",
      "Epoch 60/200\n",
      "1/1 [==============================] - 0s 55ms/step - loss: 7.5762e-04 - val_loss: 1.8522e-04\n",
      "Epoch 61/200\n",
      "1/1 [==============================] - 0s 60ms/step - loss: 6.0809e-04 - val_loss: 3.4707e-04\n",
      "Epoch 62/200\n",
      "1/1 [==============================] - 0s 42ms/step - loss: 3.9593e-04 - val_loss: 6.2455e-04\n",
      "Epoch 63/200\n",
      "1/1 [==============================] - 0s 45ms/step - loss: 1.9203e-04 - val_loss: 0.0010\n",
      "Epoch 64/200\n",
      "1/1 [==============================] - 0s 41ms/step - loss: 5.1935e-05 - val_loss: 0.0015\n",
      "Epoch 65/200\n",
      "1/1 [==============================] - 0s 43ms/step - loss: 3.5194e-07 - val_loss: 0.0020\n",
      "Epoch 66/200\n",
      "1/1 [==============================] - 0s 44ms/step - loss: 2.9310e-05 - val_loss: 0.0025\n",
      "Epoch 67/200\n",
      "1/1 [==============================] - 0s 40ms/step - loss: 1.0739e-04 - val_loss: 0.0029\n",
      "Epoch 68/200\n",
      "1/1 [==============================] - 0s 45ms/step - loss: 1.9435e-04 - val_loss: 0.0032\n",
      "Epoch 69/200\n",
      "1/1 [==============================] - 0s 54ms/step - loss: 2.5537e-04 - val_loss: 0.0032\n",
      "Epoch 70/200\n",
      "1/1 [==============================] - 0s 38ms/step - loss: 2.7071e-04 - val_loss: 0.0031\n",
      "Epoch 71/200\n",
      "1/1 [==============================] - 0s 63ms/step - loss: 2.3898e-04 - val_loss: 0.0029\n",
      "Epoch 72/200\n",
      "1/1 [==============================] - 0s 66ms/step - loss: 1.7441e-04 - val_loss: 0.0025\n",
      "Epoch 73/200\n",
      "1/1 [==============================] - 0s 36ms/step - loss: 9.9857e-05 - val_loss: 0.0021\n",
      "Epoch 74/200\n",
      "1/1 [==============================] - 0s 41ms/step - loss: 3.8129e-05 - val_loss: 0.0018\n",
      "Epoch 75/200\n",
      "1/1 [==============================] - 0s 41ms/step - loss: 4.5788e-06 - val_loss: 0.0014\n",
      "Epoch 76/200\n",
      "1/1 [==============================] - 0s 53ms/step - loss: 2.9876e-06 - val_loss: 0.0012\n",
      "Epoch 77/200\n",
      "1/1 [==============================] - 0s 57ms/step - loss: 2.5847e-05 - val_loss: 0.0010\n",
      "Epoch 78/200\n",
      "1/1 [==============================] - 0s 40ms/step - loss: 5.8536e-05 - val_loss: 9.0052e-04\n",
      "Epoch 79/200\n",
      "1/1 [==============================] - 0s 37ms/step - loss: 8.5503e-05 - val_loss: 8.6641e-04\n",
      "Epoch 80/200\n",
      "1/1 [==============================] - 0s 42ms/step - loss: 9.6008e-05 - val_loss: 8.9506e-04\n",
      "Epoch 81/200\n",
      "1/1 [==============================] - 0s 40ms/step - loss: 8.7287e-05 - val_loss: 9.8064e-04\n",
      "Epoch 82/200\n",
      "1/1 [==============================] - 0s 42ms/step - loss: 6.4245e-05 - val_loss: 0.0011\n",
      "Epoch 83/200\n",
      "1/1 [==============================] - 0s 37ms/step - loss: 3.6330e-05 - val_loss: 0.0013\n",
      "Epoch 84/200\n",
      "1/1 [==============================] - 0s 38ms/step - loss: 1.3235e-05 - val_loss: 0.0015\n",
      "Epoch 85/200\n",
      "1/1 [==============================] - 0s 34ms/step - loss: 1.2574e-06 - val_loss: 0.0017\n",
      "Epoch 86/200\n",
      "1/1 [==============================] - 0s 39ms/step - loss: 1.5927e-06 - val_loss: 0.0019\n",
      "Epoch 87/200\n",
      "1/1 [==============================] - 0s 40ms/step - loss: 1.0826e-05 - val_loss: 0.0020\n",
      "Epoch 88/200\n",
      "1/1 [==============================] - 0s 35ms/step - loss: 2.3015e-05 - val_loss: 0.0021\n",
      "Epoch 89/200\n",
      "1/1 [==============================] - 0s 37ms/step - loss: 3.2313e-05 - val_loss: 0.0021\n",
      "Epoch 90/200\n",
      "1/1 [==============================] - 0s 36ms/step - loss: 3.5050e-05 - val_loss: 0.0021\n",
      "Epoch 91/200\n",
      "1/1 [==============================] - 0s 37ms/step - loss: 3.0694e-05 - val_loss: 0.0020\n",
      "Epoch 92/200\n",
      "1/1 [==============================] - 0s 35ms/step - loss: 2.1502e-05 - val_loss: 0.0019\n",
      "Epoch 93/200\n",
      "1/1 [==============================] - 0s 41ms/step - loss: 1.1205e-05 - val_loss: 0.0017\n",
      "Epoch 94/200\n",
      "1/1 [==============================] - 0s 45ms/step - loss: 3.3674e-06 - val_loss: 0.0016\n",
      "Epoch 95/200\n",
      "1/1 [==============================] - 0s 39ms/step - loss: 7.5339e-08 - val_loss: 0.0015\n",
      "Epoch 96/200\n",
      "1/1 [==============================] - 0s 35ms/step - loss: 1.3659e-06 - val_loss: 0.0014\n",
      "Epoch 97/200\n",
      "1/1 [==============================] - 0s 43ms/step - loss: 5.5381e-06 - val_loss: 0.0013\n",
      "Epoch 98/200\n",
      "1/1 [==============================] - 0s 38ms/step - loss: 1.0093e-05 - val_loss: 0.0013\n",
      "Epoch 99/200\n",
      "1/1 [==============================] - 0s 35ms/step - loss: 1.2842e-05 - val_loss: 0.0013\n",
      "Epoch 100/200\n",
      "1/1 [==============================] - 0s 36ms/step - loss: 1.2722e-05 - val_loss: 0.0013\n",
      "Epoch 101/200\n",
      "1/1 [==============================] - 0s 41ms/step - loss: 1.0026e-05 - val_loss: 0.0014\n",
      "Epoch 102/200\n",
      "1/1 [==============================] - 0s 38ms/step - loss: 6.0595e-06 - val_loss: 0.0015\n",
      "Epoch 103/200\n",
      "1/1 [==============================] - 0s 36ms/step - loss: 2.4237e-06 - val_loss: 0.0015\n",
      "Epoch 104/200\n",
      "1/1 [==============================] - 0s 35ms/step - loss: 3.2368e-07 - val_loss: 0.0016\n",
      "Epoch 105/200\n",
      "1/1 [==============================] - 0s 46ms/step - loss: 1.4890e-07 - val_loss: 0.0017\n",
      "Epoch 106/200\n",
      "1/1 [==============================] - 0s 40ms/step - loss: 1.4551e-06 - val_loss: 0.0017\n",
      "Epoch 107/200\n",
      "1/1 [==============================] - 0s 35ms/step - loss: 3.2941e-06 - val_loss: 0.0018\n",
      "Epoch 108/200\n",
      "1/1 [==============================] - 0s 28ms/step - loss: 4.6850e-06 - val_loss: 0.0018\n",
      "Epoch 109/200\n",
      "1/1 [==============================] - 0s 35ms/step - loss: 5.0189e-06 - val_loss: 0.0018\n",
      "Epoch 110/200\n",
      "1/1 [==============================] - 0s 37ms/step - loss: 4.2389e-06 - val_loss: 0.0017\n",
      "Epoch 111/200\n",
      "1/1 [==============================] - 0s 30ms/step - loss: 2.7680e-06 - val_loss: 0.0017\n",
      "Epoch 112/200\n",
      "1/1 [==============================] - 0s 40ms/step - loss: 1.2511e-06 - val_loss: 0.0016\n",
      "Epoch 113/200\n",
      "1/1 [==============================] - 0s 31ms/step - loss: 2.4865e-07 - val_loss: 0.0016\n",
      "Epoch 114/200\n",
      "1/1 [==============================] - 0s 35ms/step - loss: 1.4282e-08 - val_loss: 0.0015\n",
      "Epoch 115/200\n",
      "1/1 [==============================] - 0s 30ms/step - loss: 4.4216e-07 - val_loss: 0.0015\n",
      "Epoch 116/200\n",
      "1/1 [==============================] - 0s 32ms/step - loss: 1.1705e-06 - val_loss: 0.0015\n",
      "Epoch 117/200\n",
      "1/1 [==============================] - 0s 34ms/step - loss: 1.7764e-06 - val_loss: 0.0015\n",
      "Epoch 118/200\n",
      "1/1 [==============================] - 0s 28ms/step - loss: 1.9724e-06 - val_loss: 0.0015\n",
      "Epoch 119/200\n",
      "1/1 [==============================] - 0s 31ms/step - loss: 1.7021e-06 - val_loss: 0.0015\n",
      "Epoch 120/200\n",
      "1/1 [==============================] - 0s 34ms/step - loss: 1.1254e-06 - val_loss: 0.0015\n",
      "Epoch 121/200\n",
      "1/1 [==============================] - 0s 33ms/step - loss: 5.1134e-07 - val_loss: 0.0016\n",
      "Epoch 122/200\n",
      "1/1 [==============================] - 0s 27ms/step - loss: 1.0104e-07 - val_loss: 0.0016\n",
      "Epoch 123/200\n",
      "1/1 [==============================] - 0s 35ms/step - loss: 6.1902e-09 - val_loss: 0.0016\n",
      "Epoch 124/200\n",
      "1/1 [==============================] - 0s 39ms/step - loss: 1.8315e-07 - val_loss: 0.0016\n",
      "Epoch 125/200\n",
      "1/1 [==============================] - 0s 39ms/step - loss: 4.7888e-07 - val_loss: 0.0017\n",
      "Epoch 126/200\n",
      "1/1 [==============================] - 0s 35ms/step - loss: 7.1788e-07 - val_loss: 0.0017\n",
      "Epoch 127/200\n",
      "1/1 [==============================] - 0s 29ms/step - loss: 7.8419e-07 - val_loss: 0.0017\n",
      "Epoch 128/200\n",
      "1/1 [==============================] - 0s 41ms/step - loss: 6.5972e-07 - val_loss: 0.0016\n",
      "Epoch 129/200\n",
      "1/1 [==============================] - 0s 37ms/step - loss: 4.1908e-07 - val_loss: 0.0016\n",
      "Epoch 130/200\n",
      "1/1 [==============================] - 0s 36ms/step - loss: 1.7578e-07 - val_loss: 0.0016\n",
      "Epoch 131/200\n",
      "1/1 [==============================] - 0s 35ms/step - loss: 2.5995e-08 - val_loss: 0.0016\n",
      "Epoch 132/200\n",
      "1/1 [==============================] - 0s 34ms/step - loss: 8.4366e-09 - val_loss: 0.0016\n",
      "Epoch 133/200\n",
      "1/1 [==============================] - 0s 43ms/step - loss: 9.5623e-08 - val_loss: 0.0015\n",
      "Epoch 134/200\n",
      "1/1 [==============================] - 0s 35ms/step - loss: 2.1826e-07 - val_loss: 0.0015\n",
      "Epoch 135/200\n",
      "1/1 [==============================] - 0s 34ms/step - loss: 3.0398e-07 - val_loss: 0.0015\n",
      "Epoch 136/200\n",
      "1/1 [==============================] - 0s 35ms/step - loss: 3.1172e-07 - val_loss: 0.0015\n",
      "Epoch 137/200\n",
      "1/1 [==============================] - 0s 46ms/step - loss: 2.4392e-07 - val_loss: 0.0016\n",
      "Epoch 138/200\n",
      "1/1 [==============================] - 0s 33ms/step - loss: 1.3936e-07 - val_loss: 0.0016\n",
      "Epoch 139/200\n",
      "1/1 [==============================] - 0s 32ms/step - loss: 4.6994e-08 - val_loss: 0.0016\n",
      "Epoch 140/200\n",
      "1/1 [==============================] - 0s 34ms/step - loss: 2.2851e-09 - val_loss: 0.0016\n",
      "Epoch 141/200\n",
      "1/1 [==============================] - 0s 30ms/step - loss: 1.2331e-08 - val_loss: 0.0016\n",
      "Epoch 142/200\n",
      "1/1 [==============================] - 0s 41ms/step - loss: 5.7613e-08 - val_loss: 0.0016\n",
      "Epoch 143/200\n",
      "1/1 [==============================] - 0s 38ms/step - loss: 1.0622e-07 - val_loss: 0.0016\n",
      "Epoch 144/200\n",
      "1/1 [==============================] - 0s 35ms/step - loss: 1.3034e-07 - val_loss: 0.0016\n",
      "Epoch 145/200\n",
      "1/1 [==============================] - 0s 32ms/step - loss: 1.1972e-07 - val_loss: 0.0016\n",
      "Epoch 146/200\n",
      "1/1 [==============================] - 0s 46ms/step - loss: 8.2538e-08 - val_loss: 0.0016\n",
      "Epoch 147/200\n",
      "1/1 [==============================] - 0s 35ms/step - loss: 3.8759e-08 - val_loss: 0.0016\n",
      "Epoch 148/200\n",
      "1/1 [==============================] - 0s 42ms/step - loss: 7.9404e-09 - val_loss: 0.0016\n",
      "Epoch 149/200\n",
      "1/1 [==============================] - 0s 39ms/step - loss: 4.0109e-10 - val_loss: 0.0016\n",
      "Epoch 150/200\n",
      "1/1 [==============================] - 0s 36ms/step - loss: 1.3426e-08 - val_loss: 0.0016\n",
      "Epoch 151/200\n",
      "1/1 [==============================] - 0s 33ms/step - loss: 3.5006e-08 - val_loss: 0.0016\n",
      "Epoch 152/200\n",
      "1/1 [==============================] - 0s 32ms/step - loss: 5.1247e-08 - val_loss: 0.0016\n",
      "Epoch 153/200\n",
      "1/1 [==============================] - 0s 30ms/step - loss: 5.3677e-08 - val_loss: 0.0016\n",
      "Epoch 154/200\n",
      "1/1 [==============================] - 0s 34ms/step - loss: 4.2188e-08 - val_loss: 0.0016\n",
      "Epoch 155/200\n",
      "1/1 [==============================] - 0s 27ms/step - loss: 2.3630e-08 - val_loss: 0.0016\n",
      "Epoch 156/200\n",
      "1/1 [==============================] - 0s 32ms/step - loss: 7.4799e-09 - val_loss: 0.0016\n",
      "Epoch 157/200\n",
      "1/1 [==============================] - 0s 33ms/step - loss: 1.9287e-10 - val_loss: 0.0016\n",
      "Epoch 158/200\n",
      "1/1 [==============================] - 0s 33ms/step - loss: 2.8585e-09 - val_loss: 0.0016\n",
      "Epoch 159/200\n",
      "1/1 [==============================] - 0s 29ms/step - loss: 1.1434e-08 - val_loss: 0.0016\n",
      "Epoch 160/200\n"
     ]
    },
    {
     "name": "stdout",
     "output_type": "stream",
     "text": [
      "1/1 [==============================] - 0s 27ms/step - loss: 1.9804e-08 - val_loss: 0.0016\n",
      "Epoch 161/200\n",
      "1/1 [==============================] - 0s 29ms/step - loss: 2.3011e-08 - val_loss: 0.0016\n",
      "Epoch 162/200\n",
      "1/1 [==============================] - 0s 32ms/step - loss: 1.9854e-08 - val_loss: 0.0016\n",
      "Epoch 163/200\n",
      "1/1 [==============================] - 0s 25ms/step - loss: 1.2423e-08 - val_loss: 0.0016\n",
      "Epoch 164/200\n",
      "1/1 [==============================] - 0s 35ms/step - loss: 4.8384e-09 - val_loss: 0.0016\n",
      "Epoch 165/200\n",
      "1/1 [==============================] - 0s 26ms/step - loss: 4.7591e-10 - val_loss: 0.0016\n",
      "Epoch 166/200\n",
      "1/1 [==============================] - 0s 34ms/step - loss: 5.9140e-10 - val_loss: 0.0016\n",
      "Epoch 167/200\n",
      "1/1 [==============================] - 0s 27ms/step - loss: 3.9020e-09 - val_loss: 0.0016\n",
      "Epoch 168/200\n",
      "1/1 [==============================] - 0s 26ms/step - loss: 7.7608e-09 - val_loss: 0.0016\n",
      "Epoch 169/200\n",
      "1/1 [==============================] - 0s 59ms/step - loss: 9.7663e-09 - val_loss: 0.0016\n",
      "Epoch 170/200\n",
      "1/1 [==============================] - 0s 25ms/step - loss: 8.9590e-09 - val_loss: 0.0016\n",
      "Epoch 171/200\n",
      "1/1 [==============================] - 0s 29ms/step - loss: 5.9764e-09 - val_loss: 0.0016\n",
      "Epoch 172/200\n",
      "1/1 [==============================] - 0s 24ms/step - loss: 2.5608e-09 - val_loss: 0.0016\n",
      "Epoch 173/200\n",
      "1/1 [==============================] - 0s 28ms/step - loss: 3.7065e-10 - val_loss: 0.0016\n",
      "Epoch 174/200\n",
      "1/1 [==============================] - 0s 34ms/step - loss: 1.3928e-10 - val_loss: 0.0016\n",
      "Epoch 175/200\n",
      "1/1 [==============================] - 0s 28ms/step - loss: 1.4506e-09 - val_loss: 0.0016\n",
      "Epoch 176/200\n",
      "1/1 [==============================] - 0s 36ms/step - loss: 3.1660e-09 - val_loss: 0.0016\n",
      "Epoch 177/200\n",
      "1/1 [==============================] - 0s 26ms/step - loss: 4.1823e-09 - val_loss: 0.0016\n",
      "Epoch 178/200\n",
      "1/1 [==============================] - 0s 31ms/step - loss: 3.9243e-09 - val_loss: 0.0016\n",
      "Epoch 179/200\n",
      "1/1 [==============================] - 0s 38ms/step - loss: 2.7076e-09 - val_loss: 0.0016\n",
      "Epoch 180/200\n",
      "1/1 [==============================] - 0s 26ms/step - loss: 1.2034e-09 - val_loss: 0.0016\n",
      "Epoch 181/200\n",
      "1/1 [==============================] - 0s 32ms/step - loss: 1.8958e-10 - val_loss: 0.0016\n",
      "Epoch 182/200\n",
      "1/1 [==============================] - 0s 28ms/step - loss: 4.7805e-11 - val_loss: 0.0016\n",
      "Epoch 183/200\n",
      "1/1 [==============================] - 0s 31ms/step - loss: 6.0305e-10 - val_loss: 0.0016\n",
      "Epoch 184/200\n",
      "1/1 [==============================] - 0s 30ms/step - loss: 1.3613e-09 - val_loss: 0.0016\n",
      "Epoch 185/200\n",
      "1/1 [==============================] - 0s 34ms/step - loss: 1.8264e-09 - val_loss: 0.0016\n",
      "Epoch 186/200\n",
      "1/1 [==============================] - 0s 29ms/step - loss: 1.7160e-09 - val_loss: 0.0016\n",
      "Epoch 187/200\n",
      "1/1 [==============================] - 0s 27ms/step - loss: 1.1624e-09 - val_loss: 0.0016\n",
      "Epoch 188/200\n",
      "1/1 [==============================] - 0s 25ms/step - loss: 4.9694e-10 - val_loss: 0.0016\n",
      "Epoch 189/200\n",
      "1/1 [==============================] - 0s 47ms/step - loss: 7.1637e-11 - val_loss: 0.0016\n",
      "Epoch 190/200\n",
      "1/1 [==============================] - 0s 39ms/step - loss: 3.0070e-11 - val_loss: 0.0016\n",
      "Epoch 191/200\n",
      "1/1 [==============================] - 0s 32ms/step - loss: 2.9060e-10 - val_loss: 0.0016\n",
      "Epoch 192/200\n",
      "1/1 [==============================] - 0s 36ms/step - loss: 6.2074e-10 - val_loss: 0.0016\n",
      "Epoch 193/200\n",
      "1/1 [==============================] - 0s 34ms/step - loss: 8.0496e-10 - val_loss: 0.0016\n",
      "Epoch 194/200\n",
      "1/1 [==============================] - 0s 38ms/step - loss: 7.3227e-10 - val_loss: 0.0016\n",
      "Epoch 195/200\n",
      "1/1 [==============================] - 0s 32ms/step - loss: 4.7591e-10 - val_loss: 0.0016\n",
      "Epoch 196/200\n",
      "1/1 [==============================] - 0s 26ms/step - loss: 1.8146e-10 - val_loss: 0.0016\n",
      "Epoch 197/200\n",
      "1/1 [==============================] - 0s 28ms/step - loss: 1.7909e-11 - val_loss: 0.0016\n",
      "Epoch 198/200\n",
      "1/1 [==============================] - 0s 33ms/step - loss: 2.3888e-11 - val_loss: 0.0016\n",
      "Epoch 199/200\n",
      "1/1 [==============================] - 0s 34ms/step - loss: 1.5667e-10 - val_loss: 0.0016\n",
      "Epoch 200/200\n",
      "1/1 [==============================] - 0s 30ms/step - loss: 2.9468e-10 - val_loss: 0.0016\n"
     ]
    },
    {
     "data": {
      "text/plain": [
       "<tensorflow.python.keras.callbacks.History at 0x1964e92da00>"
      ]
     },
     "execution_count": 293,
     "metadata": {},
     "output_type": "execute_result"
    }
   ],
   "source": [
    "model.fit(X_train,y_train,validation_data=(X_test,ytest),epochs=200,batch_size=64,verbose=1)"
   ]
  },
  {
   "cell_type": "code",
   "execution_count": 294,
   "id": "6abe8d50",
   "metadata": {},
   "outputs": [
    {
     "name": "stdout",
     "output_type": "stream",
     "text": [
      "WARNING:tensorflow:8 out of the last 11 calls to <function Model.make_predict_function.<locals>.predict_function at 0x0000019656E88700> triggered tf.function retracing. Tracing is expensive and the excessive number of tracings could be due to (1) creating @tf.function repeatedly in a loop, (2) passing tensors with different shapes, (3) passing Python objects instead of tensors. For (1), please define your @tf.function outside of the loop. For (2), @tf.function has experimental_relax_shapes=True option that relaxes argument shapes that can avoid unnecessary retracing. For (3), please refer to https://www.tensorflow.org/tutorials/customization/performance#python_or_tensor_args and https://www.tensorflow.org/api_docs/python/tf/function for  more details.\n"
     ]
    }
   ],
   "source": [
    "train_predict=model.predict(X_train)\n",
    "test_predict=model.predict(X_test)"
   ]
  },
  {
   "cell_type": "code",
   "execution_count": 295,
   "id": "c8c6035e",
   "metadata": {},
   "outputs": [],
   "source": [
    "train_predict=scaler.inverse_transform(train_predict)\n",
    "test_predict=scaler.inverse_transform(test_predict)"
   ]
  },
  {
   "cell_type": "code",
   "execution_count": 296,
   "id": "f4f6989b",
   "metadata": {},
   "outputs": [
    {
     "data": {
      "text/plain": [
       "array([0.95815465])"
      ]
     },
     "execution_count": 296,
     "metadata": {},
     "output_type": "execute_result"
    }
   ],
   "source": [
    "ytest[0:5]"
   ]
  },
  {
   "cell_type": "code",
   "execution_count": 297,
   "id": "c5ed1e8e",
   "metadata": {},
   "outputs": [
    {
     "name": "stdout",
     "output_type": "stream",
     "text": [
      "WARNING:tensorflow:8 out of the last 12 calls to <function Model.make_predict_function.<locals>.predict_function at 0x0000019656E88700> triggered tf.function retracing. Tracing is expensive and the excessive number of tracings could be due to (1) creating @tf.function repeatedly in a loop, (2) passing tensors with different shapes, (3) passing Python objects instead of tensors. For (1), please define your @tf.function outside of the loop. For (2), @tf.function has experimental_relax_shapes=True option that relaxes argument shapes that can avoid unnecessary retracing. For (3), please refer to https://www.tensorflow.org/tutorials/customization/performance#python_or_tensor_args and https://www.tensorflow.org/api_docs/python/tf/function for  more details.\n"
     ]
    }
   ],
   "source": [
    "y_pred = model.predict(X_test,batch_size=1).sum(axis=1)"
   ]
  },
  {
   "cell_type": "code",
   "execution_count": 298,
   "id": "ef544312",
   "metadata": {},
   "outputs": [
    {
     "data": {
      "text/plain": [
       "array([0.9184008], dtype=float32)"
      ]
     },
     "execution_count": 298,
     "metadata": {},
     "output_type": "execute_result"
    }
   ],
   "source": [
    "y_pred[0:5]"
   ]
  },
  {
   "cell_type": "code",
   "execution_count": 299,
   "id": "353631da",
   "metadata": {},
   "outputs": [],
   "source": [
    "import math\n",
    "from sklearn.metrics import mean_squared_error"
   ]
  },
  {
   "cell_type": "code",
   "execution_count": 300,
   "id": "5b31c604",
   "metadata": {},
   "outputs": [
    {
     "data": {
      "text/plain": [
       "0.047835521925727376"
      ]
     },
     "execution_count": 300,
     "metadata": {},
     "output_type": "execute_result"
    }
   ],
   "source": [
    "math.sqrt(mean_squared_error(y_train,y_pred))"
   ]
  },
  {
   "cell_type": "code",
   "execution_count": 301,
   "id": "f0de99fb",
   "metadata": {},
   "outputs": [
    {
     "data": {
      "text/plain": [
       "0.03975382180396725"
      ]
     },
     "execution_count": 301,
     "metadata": {},
     "output_type": "execute_result"
    }
   ],
   "source": [
    "math.sqrt(mean_squared_error(ytest,y_pred))"
   ]
  },
  {
   "cell_type": "code",
   "execution_count": 302,
   "id": "d13ef665",
   "metadata": {},
   "outputs": [
    {
     "data": {
      "image/png": "[encoded data removed]",
      "text/plain": [
       "<Figure size 1296x576 with 1 Axes>"
      ]
     },
     "metadata": {
      "needs_background": "light"
     },
     "output_type": "display_data"
    }
   ],
   "source": [
    "look_back=10\n",
    "trainPredictPlot = np.empty_like(Sales_y)\n",
    "trainPredictPlot[:, :] = np.nan\n",
    "trainPredictPlot[look_back:len(y_pred)+look_back, :] = y_pred\n",
    "testPredictPlot = np.empty_like(Sales_y)\n",
    "testPredictPlot[:, :] = np.nan\n",
    "testPredictPlot[len(y_pred)+(look_back*2)+1:len(Sales_y)-1, :] = y_pred\n",
    "plt.plot(scaler.inverse_transform(Sales_y))\n",
    "plt.plot(trainPredictPlot)\n",
    "plt.plot(testPredictPlot)\n",
    "plt.show()"
   ]
  },
  {
   "cell_type": "code",
   "execution_count": 303,
   "id": "af0935f3",
   "metadata": {},
   "outputs": [],
   "source": [
    "model.save(\"sales_forecast.h5\")"
   ]
  },
  {
   "cell_type": "code",
   "execution_count": 304,
   "id": "05ef23a3",
   "metadata": {},
   "outputs": [
    {
     "data": {
      "text/plain": [
       "4383"
      ]
     },
     "execution_count": 304,
     "metadata": {},
     "output_type": "execute_result"
    }
   ],
   "source": [
    "len(Sales)"
   ]
  },
  {
   "cell_type": "code",
   "execution_count": 305,
   "id": "00e61908",
   "metadata": {},
   "outputs": [],
   "source": [
    "Sales=np.array(Sales)"
   ]
  },
  {
   "cell_type": "code",
   "execution_count": 306,
   "id": "445a9612",
   "metadata": {},
   "outputs": [
    {
     "data": {
      "text/plain": [
       "(1, 10)"
      ]
     },
     "execution_count": 306,
     "metadata": {},
     "output_type": "execute_result"
    }
   ],
   "source": [
    "X_input=Sales[4372:4382].reshape(1,-1)\n",
    "X_input.shape"
   ]
  },
  {
   "cell_type": "code",
   "execution_count": 307,
   "id": "ff4e300f",
   "metadata": {},
   "outputs": [
    {
     "data": {
      "text/plain": [
       "array([[291.2, 285.6, 285.3, 286.2, 282.3, 290. , 288.4, 283.3, 281.7,\n",
       "        282. ]])"
      ]
     },
     "execution_count": 307,
     "metadata": {},
     "output_type": "execute_result"
    }
   ],
   "source": [
    "X_input"
   ]
  },
  {
   "cell_type": "code",
   "execution_count": 308,
   "id": "17fa33dd",
   "metadata": {},
   "outputs": [
    {
     "data": {
      "text/plain": [
       "1622"
      ]
     },
     "execution_count": 308,
     "metadata": {},
     "output_type": "execute_result"
    }
   ],
   "source": [
    "len(test_data)"
   ]
  },
  {
   "cell_type": "code",
   "execution_count": 309,
   "id": "80191400",
   "metadata": {},
   "outputs": [
    {
     "data": {
      "text/plain": [
       "(1, 10)"
      ]
     },
     "execution_count": 309,
     "metadata": {},
     "output_type": "execute_result"
    }
   ],
   "source": [
    "X_input=test_data[1612:].reshape(1,-1)\n",
    "X_input.shape"
   ]
  },
  {
   "cell_type": "code",
   "execution_count": 310,
   "id": "df25dd1f",
   "metadata": {},
   "outputs": [],
   "source": [
    "temp_input=list(X_input)\n",
    "temp_input=temp_input[0].tolist()"
   ]
  },
  {
   "cell_type": "code",
   "execution_count": 311,
   "id": "c76a5b82",
   "metadata": {},
   "outputs": [
    {
     "data": {
      "text/plain": [
       "[0.8857699805068227,\n",
       " 0.8853801169590643,\n",
       " 0.8865497076023392,\n",
       " 0.8814814814814814,\n",
       " 0.8914879792072774,\n",
       " 0.8894087069525665,\n",
       " 0.8827810266406757,\n",
       " 0.8807017543859649,\n",
       " 0.8810916179337231,\n",
       " 0.8809616634178037]"
      ]
     },
     "execution_count": 311,
     "metadata": {},
     "output_type": "execute_result"
    }
   ],
   "source": [
    "temp_input"
   ]
  },
  {
   "cell_type": "code",
   "execution_count": 312,
   "id": "9d3d00c7",
   "metadata": {},
   "outputs": [
    {
     "data": {
      "text/plain": [
       "10"
      ]
     },
     "execution_count": 312,
     "metadata": {},
     "output_type": "execute_result"
    }
   ],
   "source": [
    "len(temp_input)"
   ]
  },
  {
   "cell_type": "code",
   "execution_count": null,
   "id": "f0dfb5cc",
   "metadata": {},
   "outputs": [],
   "source": []
  }
 ],
 "metadata": {
  "kernelspec": {
   "display_name": "Python 3",
   "language": "python",
   "name": "python3"
  },
  "language_info": {
   "codemirror_mode": {
    "name": "ipython",
    "version": 3
   },
   "file_extension": ".py",
   "mimetype": "text/x-python",
   "name": "python",
   "nbconvert_exporter": "python",
   "pygments_lexer": "ipython3",
   "version": "3.8.8"
  }
 },
 "nbformat": 4,
 "nbformat_minor": 5
}
